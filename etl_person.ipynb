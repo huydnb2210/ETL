{
 "cells": [
  {
   "cell_type": "markdown",
   "id": "3cc0ce49-89e6-4e90-aa62-21ee5d4fe3b8",
   "metadata": {},
   "source": [
    "## This project is create to understand how ETL process using IBM files "
   ]
  },
  {
   "cell_type": "code",
   "execution_count": 1,
   "id": "00c2816a-289d-499e-aad3-330a8eae1750",
   "metadata": {},
   "outputs": [],
   "source": [
    "import glob\n",
    "import pandas as pd\n",
    "import xml.etree.ElementTree as ET\n",
    "from datetime import datetime\n",
    "from zipfile import ZipFile"
   ]
  },
  {
   "cell_type": "markdown",
   "id": "e0767eef-798d-42c2-8f96-799fb4611d6e",
   "metadata": {},
   "source": [
    "## Download files using wget"
   ]
  },
  {
   "cell_type": "code",
   "execution_count": 2,
   "id": "77fdb8c2-99bc-49ae-a0bc-cd99127347d0",
   "metadata": {},
   "outputs": [
    {
     "name": "stderr",
     "output_type": "stream",
     "text": [
      "--2021-10-05 11:56:07--  https://cf-courses-data.s3.us.cloud-object-storage.appdomain.cloud/IBMDeveloperSkillsNetwork-PY0221EN-SkillsNetwork/labs/module%206/Lab%20-%20Extract%20Transform%20Load/data/source.zip\n",
      "Resolving cf-courses-data.s3.us.cloud-object-storage.appdomain.cloud (cf-courses-data.s3.us.cloud-object-storage.appdomain.cloud)... 169.45.118.108\n",
      "Connecting to cf-courses-data.s3.us.cloud-object-storage.appdomain.cloud (cf-courses-data.s3.us.cloud-object-storage.appdomain.cloud)|169.45.118.108|:443... connected.\n",
      "HTTP request sent, awaiting response... 200 OK\n",
      "Length: 2707 (2.6K) [application/zip]\n",
      "Saving to: 'source.zip'\n",
      "\n",
      "     0K ..                                                    100%  516M=0s\n",
      "\n",
      "2021-10-05 11:56:08 (516 MB/s) - 'source.zip' saved [2707/2707]\n",
      "\n"
     ]
    }
   ],
   "source": [
    "# If the project don't have source.zip, you can uncomment it and download from IBM link below:\n",
    "#!wget https://cf-courses-data.s3.us.cloud-object-storage.appdomain.cloud/IBMDeveloperSkillsNetwork-PY0221EN-SkillsNetwork/labs/module%206/Lab%20-%20Extract%20Transform%20Load/data/source.zip"
   ]
  },
  {
   "cell_type": "markdown",
   "id": "38cd84d1-b387-4f91-8148-596538129304",
   "metadata": {},
   "source": [
    "## Extract files"
   ]
  },
  {
   "cell_type": "code",
   "execution_count": 4,
   "id": "36fc9e7c-839d-4b25-92d1-a85c0f8ce40d",
   "metadata": {},
   "outputs": [],
   "source": [
    "with ZipFile('source.zip', 'r') as zipObj:\n",
    "    zipObj.extractall('person') #extract all data files into person"
   ]
  },
  {
   "cell_type": "markdown",
   "id": "27b07561-1feb-4afd-afe4-b31268a5d782",
   "metadata": {},
   "source": [
    "## Set Path"
   ]
  },
  {
   "cell_type": "code",
   "execution_count": 5,
   "id": "57c3bf14-ad8c-4dc7-9e4e-cbb516f9d909",
   "metadata": {},
   "outputs": [],
   "source": [
    "tmp = \"person_temp.tmp\"\n",
    "logfile = \"person_log.txt\"\n",
    "targetfile = \"person_transformed.csv\""
   ]
  },
  {
   "cell_type": "markdown",
   "id": "5c7f89c4-87d4-476a-aec1-d7ee941f4a7d",
   "metadata": {},
   "source": [
    "## Extract"
   ]
  },
  {
   "cell_type": "code",
   "execution_count": 7,
   "id": "273394cb-bc07-461f-a20f-27381452c9d9",
   "metadata": {},
   "outputs": [],
   "source": [
    "#Extract CSV file\n",
    "def extract_file_csv(file_to_extract):\n",
    "    dataframe = pd.read_csv(file_to_extract)\n",
    "    return dataframe"
   ]
  },
  {
   "cell_type": "code",
   "execution_count": 8,
   "id": "5383cc5d-7bd1-4be5-8821-226391ec75cc",
   "metadata": {},
   "outputs": [],
   "source": [
    "#Extract JSON file\n",
    "def extract_file_json(file_to_extract):\n",
    "    dataframe = pd.read_json(file_to_extract, lines= True)\n",
    "    return dataframe"
   ]
  },
  {
   "cell_type": "code",
   "execution_count": 25,
   "id": "843d6a6a-2b14-4238-8dc8-004954cc3cf4",
   "metadata": {},
   "outputs": [],
   "source": [
    "#Extract XML file\n",
    "def extract_file_xml(file_to_extract):\n",
    "    dataframe = pd.DataFrame(columns=['name', 'height', 'weight'])\n",
    "    tree = ET.parse(file_to_extract)\n",
    "    root = tree.getroot()\n",
    "    for person in root:\n",
    "        name = person.find('name').text\n",
    "        weight = float(person.find('weight').text)\n",
    "        height = float(person.find('height').text)\n",
    "        dataframe = dataframe.append({'name': name, 'weight': weight, 'height': height}, ignore_index= True)\n",
    "    return dataframe"
   ]
  },
  {
   "cell_type": "code",
   "execution_count": 26,
   "id": "a1b07630-fb68-4cb6-a6f9-19de61234384",
   "metadata": {},
   "outputs": [],
   "source": [
    "def extract():\n",
    "    extracted_data = pd.DataFrame(columns=['name','height','weight'])\n",
    "    \n",
    "    #Extract from CSV file:\n",
    "    for csvfile in glob.glob('person\\*.csv'):\n",
    "        extracted_data = extracted_data.append(extract_file_csv(csvfile), ignore_index= True)\n",
    "        \n",
    "    #Extract from JSON file:\n",
    "    for jsonfile in glob.glob('person\\*.json'):\n",
    "        extracted_data = extracted_data.append(extract_file_json(jsonfile), ignore_index= True)\n",
    "    \n",
    "    #Extract from XML file:\n",
    "    for xmlfile in glob.glob('person\\*.xml'):\n",
    "        extracted_data = extracted_data.append(extract_file_xml(xmlfile), ignore_index= True)\n",
    "        \n",
    "    return extracted_data"
   ]
  },
  {
   "cell_type": "markdown",
   "id": "cb11f0bc-80ce-47d3-989c-e5ea776864ab",
   "metadata": {},
   "source": [
    "## Tranform"
   ]
  },
  {
   "cell_type": "code",
   "execution_count": 27,
   "id": "d7825e84-5536-4a7d-80bf-731fd9de1308",
   "metadata": {},
   "outputs": [],
   "source": [
    "#Convert inches to milimiters in height and pounds to kilograms in weight\n",
    "# 1 inch = 0.0254 meters\n",
    "# 1 pound = 0.45359237 kilograms\n",
    "def transform(data):\n",
    "    data['height'] = round(data.height * 0.0254, 2)\n",
    "    data['weight'] = round(data.weight * 0.45359237, 2)\n",
    "    return data"
   ]
  },
  {
   "cell_type": "markdown",
   "id": "da2aabe6-a763-4d81-b0b2-8fd1ec87d6f2",
   "metadata": {},
   "source": [
    "## Load"
   ]
  },
  {
   "cell_type": "code",
   "execution_count": 28,
   "id": "166c437f-d71a-4d97-9ff3-5361526cf8b8",
   "metadata": {},
   "outputs": [],
   "source": [
    "def load(targetfile, data_to_load):\n",
    "    data_to_load.to_csv(targetfile)"
   ]
  },
  {
   "cell_type": "markdown",
   "id": "65214f21-df13-4b7c-8b65-bafac4464967",
   "metadata": {},
   "source": [
    "## Logging"
   ]
  },
  {
   "cell_type": "code",
   "execution_count": 29,
   "id": "9c8adba0-b59d-4233-b579-0a959be96891",
   "metadata": {},
   "outputs": [],
   "source": [
    "def log(message):\n",
    "    timestamp_format = '%Y-%h-%d-%H:%M:%S'\n",
    "    now = datetime.now()\n",
    "    timestamp = now.strftime(timestamp_format)\n",
    "    with open('person_log.txt', 'a') as f:\n",
    "        f.write(timestamp + ',' + message + '\\n')"
   ]
  },
  {
   "cell_type": "markdown",
   "id": "fc016d3b-180f-47e7-9211-f682ff3f913c",
   "metadata": {},
   "source": [
    "## Running ETL process"
   ]
  },
  {
   "cell_type": "code",
   "execution_count": 30,
   "id": "263e29d1-ead9-46bf-9c78-0f8a83cf1007",
   "metadata": {},
   "outputs": [],
   "source": [
    "log('Start')"
   ]
  },
  {
   "cell_type": "code",
   "execution_count": 31,
   "id": "36d3ee2a-0530-414f-83f5-e3d6d746a91f",
   "metadata": {},
   "outputs": [],
   "source": [
    "log(\"Extract phase Started\")\n",
    "extracted_data = extract()\n",
    "log(\"Extract phase Ended\")\n",
    "log(\"Transform phase Started\")\n",
    "transformed_data = transform(extracted_data)\n",
    "log(\"Transform phase Ended\")\n",
    "log(\"Load phase Started\")\n",
    "load(targetfile, transformed_data)\n",
    "log(\"Load phase Ended\")\n",
    "log(\"End\")"
   ]
  },
  {
   "cell_type": "code",
   "execution_count": null,
   "id": "f7bd072e-9fa4-4391-a8ca-23acb7d2938d",
   "metadata": {},
   "outputs": [],
   "source": []
  },
  {
   "cell_type": "code",
   "execution_count": null,
   "id": "ac8cbf05-d29c-4f19-aa99-812cfa0bb0a7",
   "metadata": {},
   "outputs": [],
   "source": []
  }
 ],
 "metadata": {
  "kernelspec": {
   "display_name": "Python 3 (ipykernel)",
   "language": "python",
   "name": "python3"
  },
  "language_info": {
   "codemirror_mode": {
    "name": "ipython",
    "version": 3
   },
   "file_extension": ".py",
   "mimetype": "text/x-python",
   "name": "python",
   "nbconvert_exporter": "python",
   "pygments_lexer": "ipython3",
   "version": "3.8.7"
  }
 },
 "nbformat": 4,
 "nbformat_minor": 5
}
